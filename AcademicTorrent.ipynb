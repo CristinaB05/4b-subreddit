{
 "cells": [
  {
   "cell_type": "code",
   "execution_count": 2,
   "id": "2da774e3-371c-4d5e-8904-31fe2f110d41",
   "metadata": {},
   "outputs": [
    {
     "name": "stdout",
     "output_type": "stream",
     "text": [
      "Collecting academictorrents\n",
      "  Downloading academictorrents-2.3.3.tar.gz (16 kB)\n",
      "  Preparing metadata (setup.py): started\n",
      "  Preparing metadata (setup.py): finished with status 'done'\n",
      "Collecting bencode.py==2.0.0 (from academictorrents)\n",
      "  Downloading bencode.py-2.0.0-py2.py3-none-any.whl.metadata (1.7 kB)\n",
      "Collecting bitstring==3.1.5 (from academictorrents)\n",
      "  Downloading bitstring-3.1.5.zip (624 kB)\n",
      "     ---------------------------------------- 0.0/624.4 kB ? eta -:--:--\n",
      "     ---------------------------------------- 0.0/624.4 kB ? eta -:--:--\n",
      "     ---------------------------------------- 0.0/624.4 kB ? eta -:--:--\n",
      "     ---------------------------------------- 0.0/624.4 kB ? eta -:--:--\n",
      "     ---------------- ----------------------- 262.1/624.4 kB ? eta -:--:--\n",
      "     ---------------- ----------------------- 262.1/624.4 kB ? eta -:--:--\n",
      "     ------------------------------ ----- 524.3/624.4 kB 441.3 kB/s eta 0:00:01\n",
      "     ------------------------------------ 624.4/624.4 kB 473.0 kB/s eta 0:00:00\n",
      "  Preparing metadata (setup.py): started\n",
      "  Preparing metadata (setup.py): finished with status 'done'\n",
      "Collecting PyPubSub==3.3.0 (from academictorrents)\n",
      "  Downloading PyPubSub-3.3.0.zip (87 kB)\n",
      "  Preparing metadata (setup.py): started\n",
      "  Preparing metadata (setup.py): finished with status 'done'\n",
      "Requirement already satisfied: requests>=2.19.0 in c:\\users\\crist\\anaconda3\\envs\\sds\\lib\\site-packages (from academictorrents) (2.32.3)\n",
      "Collecting future==0.16.0 (from academictorrents)\n",
      "  Downloading future-0.16.0.tar.gz (824 kB)\n",
      "     ---------------------------------------- 0.0/824.5 kB ? eta -:--:--\n",
      "     ---------------------------------------- 0.0/824.5 kB ? eta -:--:--\n",
      "     ---------------------------------------- 0.0/824.5 kB ? eta -:--:--\n",
      "     ---------------------------------------- 0.0/824.5 kB ? eta -:--:--\n",
      "     ---------------------------------------- 0.0/824.5 kB ? eta -:--:--\n",
      "     ---------------------------------------- 0.0/824.5 kB ? eta -:--:--\n",
      "     ---------------------------------------- 0.0/824.5 kB ? eta -:--:--\n",
      "     ---------------------------------------- 0.0/824.5 kB ? eta -:--:--\n",
      "     ---------------------------------------- 0.0/824.5 kB ? eta -:--:--\n",
      "     ---------------------------------------- 0.0/824.5 kB ? eta -:--:--\n",
      "     ---------------------------------------- 0.0/824.5 kB ? eta -:--:--\n",
      "     ---------------------------------------- 0.0/824.5 kB ? eta -:--:--\n",
      "     ---------------------------------------- 0.0/824.5 kB ? eta -:--:--\n",
      "     ---------------------------------------- 0.0/824.5 kB ? eta -:--:--\n",
      "     ---------------------------------------- 0.0/824.5 kB ? eta -:--:--\n",
      "     ---------------------------------------- 0.0/824.5 kB ? eta -:--:--\n",
      "     ---------------------------------------- 0.0/824.5 kB ? eta -:--:--\n",
      "     ---------------------------------------- 0.0/824.5 kB ? eta -:--:--\n",
      "     ------------ --------------------------- 262.1/824.5 kB ? eta -:--:--\n",
      "     ------------ --------------------------- 262.1/824.5 kB ? eta -:--:--\n",
      "     ------------ --------------------------- 262.1/824.5 kB ? eta -:--:--\n",
      "     ------------ --------------------------- 262.1/824.5 kB ? eta -:--:--\n",
      "     ------------ --------------------------- 262.1/824.5 kB ? eta -:--:--\n",
      "     ------------ --------------------------- 262.1/824.5 kB ? eta -:--:--\n",
      "     ------------ --------------------------- 262.1/824.5 kB ? eta -:--:--\n",
      "     ------------ --------------------------- 262.1/824.5 kB ? eta -:--:--\n",
      "     ------------ --------------------------- 262.1/824.5 kB ? eta -:--:--\n",
      "     ------------ --------------------------- 262.1/824.5 kB ? eta -:--:--\n",
      "     ------------ --------------------------- 262.1/824.5 kB ? eta -:--:--\n",
      "     ------------ --------------------------- 262.1/824.5 kB ? eta -:--:--\n",
      "     ------------ --------------------------- 262.1/824.5 kB ? eta -:--:--\n",
      "     ------------ --------------------------- 262.1/824.5 kB ? eta -:--:--\n",
      "     ----------------------- ------------- 524.3/824.5 kB 86.0 kB/s eta 0:00:04\n",
      "     ----------------------- ------------- 524.3/824.5 kB 86.0 kB/s eta 0:00:04\n",
      "     ----------------------- ------------- 524.3/824.5 kB 86.0 kB/s eta 0:00:04\n",
      "     ----------------------- ------------- 524.3/824.5 kB 86.0 kB/s eta 0:00:04\n",
      "     ------------------------------------ 824.5/824.5 kB 142.8 kB/s eta 0:00:00\n",
      "  Preparing metadata (setup.py): started\n",
      "  Preparing metadata (setup.py): finished with status 'done'\n",
      "Requirement already satisfied: tqdm in c:\\users\\crist\\anaconda3\\envs\\sds\\lib\\site-packages (from academictorrents) (4.67.1)\n",
      "Requirement already satisfied: charset-normalizer<4,>=2 in c:\\users\\crist\\anaconda3\\envs\\sds\\lib\\site-packages (from requests>=2.19.0->academictorrents) (3.3.2)\n",
      "Requirement already satisfied: idna<4,>=2.5 in c:\\users\\crist\\anaconda3\\envs\\sds\\lib\\site-packages (from requests>=2.19.0->academictorrents) (3.7)\n",
      "Requirement already satisfied: urllib3<3,>=1.21.1 in c:\\users\\crist\\anaconda3\\envs\\sds\\lib\\site-packages (from requests>=2.19.0->academictorrents) (1.26.20)\n",
      "Requirement already satisfied: certifi>=2017.4.17 in c:\\users\\crist\\anaconda3\\envs\\sds\\lib\\site-packages (from requests>=2.19.0->academictorrents) (2025.1.31)\n",
      "Requirement already satisfied: colorama in c:\\users\\crist\\anaconda3\\envs\\sds\\lib\\site-packages (from tqdm->academictorrents) (0.4.6)\n",
      "Downloading bencode.py-2.0.0-py2.py3-none-any.whl (6.4 kB)\n",
      "Building wheels for collected packages: academictorrents, bitstring, future, PyPubSub\n",
      "  Building wheel for academictorrents (setup.py): started\n",
      "  Building wheel for academictorrents (setup.py): finished with status 'done'\n",
      "  Created wheel for academictorrents: filename=academictorrents-2.3.3-py3-none-any.whl size=21008 sha256=022dc3f230b228fc15b41aceeee683834fa5c39135d1513cca59ec0dbc8a4434\n",
      "  Stored in directory: c:\\users\\crist\\appdata\\local\\pip\\cache\\wheels\\4d\\1d\\7c\\11ffa610d4a342eaaa064aef24bb35868561e5a3eeebcdda82\n",
      "  Building wheel for bitstring (setup.py): started\n",
      "  Building wheel for bitstring (setup.py): finished with status 'done'\n",
      "  Created wheel for bitstring: filename=bitstring-3.1.5-py3-none-any.whl size=36563 sha256=be07fa1ed651ecc921505aa9e1859a3976d07f7519a6193b06cd8e2f6ed54c0a\n",
      "  Stored in directory: c:\\users\\crist\\appdata\\local\\pip\\cache\\wheels\\53\\ba\\1b\\34f6ed4a18fccd914084de34f1c99c72d66e36110b43220ea3\n",
      "  Building wheel for future (setup.py): started\n",
      "  Building wheel for future (setup.py): finished with status 'done'\n",
      "  Created wheel for future: filename=future-0.16.0-py3-none-any.whl size=487822 sha256=761ed36913f11d75c939a708af19431b3b867497299219e987c06e5a1983cc50\n",
      "  Stored in directory: c:\\users\\crist\\appdata\\local\\pip\\cache\\wheels\\81\\70\\69\\e273f4630da7da839c9158a15f6a73d9af8c3ded04f933c1af\n",
      "  Building wheel for PyPubSub (setup.py): started\n",
      "  Building wheel for PyPubSub (setup.py): finished with status 'done'\n",
      "  Created wheel for PyPubSub: filename=PyPubSub-3.3.0-py3-none-any.whl size=80835 sha256=cdc4dd22878b20ba61622902fc5887d99a3a6207127f5d9978b170aa0b15aaff\n",
      "  Stored in directory: c:\\users\\crist\\appdata\\local\\pip\\cache\\wheels\\6c\\18\\5f\\fb10c2e7b52a47c3a8ac83b8c095656a82f1528bb0e875164f\n",
      "Successfully built academictorrents bitstring future PyPubSub\n",
      "Installing collected packages: PyPubSub, future, bitstring, bencode.py, academictorrents\n",
      "Successfully installed PyPubSub-3.3.0 academictorrents-2.3.3 bencode.py-2.0.0 bitstring-3.1.5 future-0.16.0\n",
      "Note: you may need to restart the kernel to use updated packages.\n"
     ]
    }
   ],
   "source": [
    "pip install academictorrents"
   ]
  },
  {
   "cell_type": "code",
   "execution_count": 4,
   "id": "abb0be60-b3af-423e-bb7d-0f36ff56a810",
   "metadata": {},
   "outputs": [],
   "source": [
    "import academictorrents as at"
   ]
  },
  {
   "cell_type": "code",
   "execution_count": 5,
   "id": "027aba34-f73c-40c1-a186-8de664839771",
   "metadata": {},
   "outputs": [
    {
     "ename": "HTTPError",
     "evalue": "HTTP Error 404: Not Found",
     "output_type": "error",
     "traceback": [
      "\u001b[1;31m---------------------------------------------------------------------------\u001b[0m",
      "\u001b[1;31mOSError\u001b[0m                                   Traceback (most recent call last)",
      "File \u001b[1;32m~\\anaconda3\\envs\\sds\\Lib\\site-packages\\academictorrents\\Torrent.py:25\u001b[0m, in \u001b[0;36mTorrent.__init__\u001b[1;34m(self, hash, datastore)\u001b[0m\n\u001b[0;32m     24\u001b[0m \u001b[38;5;28;01mtry\u001b[39;00m:\n\u001b[1;32m---> 25\u001b[0m     contents \u001b[38;5;241m=\u001b[39m \u001b[38;5;28mopen\u001b[39m(\u001b[38;5;124m\"\u001b[39m\u001b[38;5;124m/tmp/\u001b[39m\u001b[38;5;124m\"\u001b[39m \u001b[38;5;241m+\u001b[39m \u001b[38;5;28mhash\u001b[39m \u001b[38;5;241m+\u001b[39m \u001b[38;5;124m'\u001b[39m\u001b[38;5;124m.torrent\u001b[39m\u001b[38;5;124m'\u001b[39m, \u001b[38;5;124m'\u001b[39m\u001b[38;5;124mrb\u001b[39m\u001b[38;5;124m'\u001b[39m)\u001b[38;5;241m.\u001b[39mread()\n\u001b[0;32m     26\u001b[0m \u001b[38;5;28;01mexcept\u001b[39;00m \u001b[38;5;167;01mException\u001b[39;00m:\n",
      "\u001b[1;31mOSError\u001b[0m: [Errno 22] Invalid argument: '/tmp/https://academictorrents.com/database.xml.torrent'",
      "\nDuring handling of the above exception, another exception occurred:\n",
      "\u001b[1;31mHTTPError\u001b[0m                                 Traceback (most recent call last)",
      "Cell \u001b[1;32mIn[5], line 1\u001b[0m\n\u001b[1;32m----> 1\u001b[0m at\u001b[38;5;241m.\u001b[39mget(\u001b[38;5;124m'\u001b[39m\u001b[38;5;124mhttps://academictorrents.com/database.xml\u001b[39m\u001b[38;5;124m'\u001b[39m)\n",
      "File \u001b[1;32m~\\anaconda3\\envs\\sds\\Lib\\site-packages\\academictorrents\\academictorrents.py:19\u001b[0m, in \u001b[0;36mget\u001b[1;34m(at_hash, datastore, urls, showlogs, use_timestamp)\u001b[0m\n\u001b[0;32m     16\u001b[0m \u001b[38;5;28;01mif\u001b[39;00m \u001b[38;5;129;01mnot\u001b[39;00m datastore:\n\u001b[0;32m     17\u001b[0m     datastore \u001b[38;5;241m=\u001b[39m \u001b[38;5;124m\"\u001b[39m\u001b[38;5;124m~/.academictorrents-datastore\u001b[39m\u001b[38;5;124m\"\u001b[39m\n\u001b[1;32m---> 19\u001b[0m torrent \u001b[38;5;241m=\u001b[39m Torrent(at_hash, datastore)\n\u001b[0;32m     20\u001b[0m torrent\u001b[38;5;241m.\u001b[39murls \u001b[38;5;241m=\u001b[39m torrent\u001b[38;5;241m.\u001b[39murls \u001b[38;5;241m+\u001b[39m urls\n\u001b[0;32m     21\u001b[0m path \u001b[38;5;241m=\u001b[39m torrent\u001b[38;5;241m.\u001b[39mdatastore \u001b[38;5;241m+\u001b[39m torrent\u001b[38;5;241m.\u001b[39mcontents[\u001b[38;5;124m'\u001b[39m\u001b[38;5;124minfo\u001b[39m\u001b[38;5;124m'\u001b[39m][\u001b[38;5;124m'\u001b[39m\u001b[38;5;124mname\u001b[39m\u001b[38;5;124m'\u001b[39m]\n",
      "File \u001b[1;32m~\\anaconda3\\envs\\sds\\Lib\\site-packages\\academictorrents\\Torrent.py:29\u001b[0m, in \u001b[0;36mTorrent.__init__\u001b[1;34m(self, hash, datastore)\u001b[0m\n\u001b[0;32m     27\u001b[0m contents \u001b[38;5;241m=\u001b[39m \u001b[38;5;28mself\u001b[39m\u001b[38;5;241m.\u001b[39mget_from_file()\n\u001b[0;32m     28\u001b[0m \u001b[38;5;28;01mif\u001b[39;00m \u001b[38;5;129;01mnot\u001b[39;00m contents:\n\u001b[1;32m---> 29\u001b[0m     contents \u001b[38;5;241m=\u001b[39m \u001b[38;5;28mself\u001b[39m\u001b[38;5;241m.\u001b[39mget_from_url()\n\u001b[0;32m     30\u001b[0m \u001b[38;5;28;01mif\u001b[39;00m \u001b[38;5;129;01mnot\u001b[39;00m contents:\n\u001b[0;32m     31\u001b[0m     \u001b[38;5;28;01mraise\u001b[39;00m \u001b[38;5;167;01mException\u001b[39;00m(\u001b[38;5;124m\"\u001b[39m\u001b[38;5;124mCould not find a torrent with this hash on the tracker or in the data directory:\u001b[39m\u001b[38;5;124m\"\u001b[39m \u001b[38;5;241m+\u001b[39m \u001b[38;5;28mstr\u001b[39m(\u001b[38;5;28mself\u001b[39m\u001b[38;5;241m.\u001b[39mdatastore))\n",
      "File \u001b[1;32m~\\anaconda3\\envs\\sds\\Lib\\site-packages\\academictorrents\\Torrent.py:103\u001b[0m, in \u001b[0;36mTorrent.get_from_url\u001b[1;34m(self)\u001b[0m\n\u001b[0;32m    101\u001b[0m url \u001b[38;5;241m=\u001b[39m \u001b[38;5;124m\"\u001b[39m\u001b[38;5;124mhttp://academictorrents.com/download/\u001b[39m\u001b[38;5;124m\"\u001b[39m \u001b[38;5;241m+\u001b[39m \u001b[38;5;28mself\u001b[39m\u001b[38;5;241m.\u001b[39mhash\n\u001b[0;32m    102\u001b[0m torrent_path \u001b[38;5;241m=\u001b[39m os\u001b[38;5;241m.\u001b[39mpath\u001b[38;5;241m.\u001b[39mjoin(\u001b[38;5;124m\"\u001b[39m\u001b[38;5;124m/tmp/\u001b[39m\u001b[38;5;124m\"\u001b[39m, \u001b[38;5;28mself\u001b[39m\u001b[38;5;241m.\u001b[39mhash \u001b[38;5;241m+\u001b[39m \u001b[38;5;124m'\u001b[39m\u001b[38;5;124m.torrent\u001b[39m\u001b[38;5;124m'\u001b[39m)\n\u001b[1;32m--> 103\u001b[0m response \u001b[38;5;241m=\u001b[39m urlopen(url, timeout\u001b[38;5;241m=\u001b[39m\u001b[38;5;241m5\u001b[39m)\u001b[38;5;241m.\u001b[39mread()\n\u001b[0;32m    104\u001b[0m \u001b[38;5;28mopen\u001b[39m(torrent_path, \u001b[38;5;124m'\u001b[39m\u001b[38;5;124mwb\u001b[39m\u001b[38;5;124m'\u001b[39m)\u001b[38;5;241m.\u001b[39mwrite(response)\n\u001b[0;32m    105\u001b[0m \u001b[38;5;28;01mtry\u001b[39;00m:\n",
      "File \u001b[1;32m~\\anaconda3\\envs\\sds\\Lib\\urllib\\request.py:215\u001b[0m, in \u001b[0;36murlopen\u001b[1;34m(url, data, timeout, cafile, capath, cadefault, context)\u001b[0m\n\u001b[0;32m    213\u001b[0m \u001b[38;5;28;01melse\u001b[39;00m:\n\u001b[0;32m    214\u001b[0m     opener \u001b[38;5;241m=\u001b[39m _opener\n\u001b[1;32m--> 215\u001b[0m \u001b[38;5;28;01mreturn\u001b[39;00m opener\u001b[38;5;241m.\u001b[39mopen(url, data, timeout)\n",
      "File \u001b[1;32m~\\anaconda3\\envs\\sds\\Lib\\urllib\\request.py:521\u001b[0m, in \u001b[0;36mOpenerDirector.open\u001b[1;34m(self, fullurl, data, timeout)\u001b[0m\n\u001b[0;32m    519\u001b[0m \u001b[38;5;28;01mfor\u001b[39;00m processor \u001b[38;5;129;01min\u001b[39;00m \u001b[38;5;28mself\u001b[39m\u001b[38;5;241m.\u001b[39mprocess_response\u001b[38;5;241m.\u001b[39mget(protocol, []):\n\u001b[0;32m    520\u001b[0m     meth \u001b[38;5;241m=\u001b[39m \u001b[38;5;28mgetattr\u001b[39m(processor, meth_name)\n\u001b[1;32m--> 521\u001b[0m     response \u001b[38;5;241m=\u001b[39m meth(req, response)\n\u001b[0;32m    523\u001b[0m \u001b[38;5;28;01mreturn\u001b[39;00m response\n",
      "File \u001b[1;32m~\\anaconda3\\envs\\sds\\Lib\\urllib\\request.py:630\u001b[0m, in \u001b[0;36mHTTPErrorProcessor.http_response\u001b[1;34m(self, request, response)\u001b[0m\n\u001b[0;32m    627\u001b[0m \u001b[38;5;66;03m# According to RFC 2616, \"2xx\" code indicates that the client's\u001b[39;00m\n\u001b[0;32m    628\u001b[0m \u001b[38;5;66;03m# request was successfully received, understood, and accepted.\u001b[39;00m\n\u001b[0;32m    629\u001b[0m \u001b[38;5;28;01mif\u001b[39;00m \u001b[38;5;129;01mnot\u001b[39;00m (\u001b[38;5;241m200\u001b[39m \u001b[38;5;241m<\u001b[39m\u001b[38;5;241m=\u001b[39m code \u001b[38;5;241m<\u001b[39m \u001b[38;5;241m300\u001b[39m):\n\u001b[1;32m--> 630\u001b[0m     response \u001b[38;5;241m=\u001b[39m \u001b[38;5;28mself\u001b[39m\u001b[38;5;241m.\u001b[39mparent\u001b[38;5;241m.\u001b[39merror(\n\u001b[0;32m    631\u001b[0m         \u001b[38;5;124m'\u001b[39m\u001b[38;5;124mhttp\u001b[39m\u001b[38;5;124m'\u001b[39m, request, response, code, msg, hdrs)\n\u001b[0;32m    633\u001b[0m \u001b[38;5;28;01mreturn\u001b[39;00m response\n",
      "File \u001b[1;32m~\\anaconda3\\envs\\sds\\Lib\\urllib\\request.py:553\u001b[0m, in \u001b[0;36mOpenerDirector.error\u001b[1;34m(self, proto, *args)\u001b[0m\n\u001b[0;32m    551\u001b[0m     http_err \u001b[38;5;241m=\u001b[39m \u001b[38;5;241m0\u001b[39m\n\u001b[0;32m    552\u001b[0m args \u001b[38;5;241m=\u001b[39m (\u001b[38;5;28mdict\u001b[39m, proto, meth_name) \u001b[38;5;241m+\u001b[39m args\n\u001b[1;32m--> 553\u001b[0m result \u001b[38;5;241m=\u001b[39m \u001b[38;5;28mself\u001b[39m\u001b[38;5;241m.\u001b[39m_call_chain(\u001b[38;5;241m*\u001b[39margs)\n\u001b[0;32m    554\u001b[0m \u001b[38;5;28;01mif\u001b[39;00m result:\n\u001b[0;32m    555\u001b[0m     \u001b[38;5;28;01mreturn\u001b[39;00m result\n",
      "File \u001b[1;32m~\\anaconda3\\envs\\sds\\Lib\\urllib\\request.py:492\u001b[0m, in \u001b[0;36mOpenerDirector._call_chain\u001b[1;34m(self, chain, kind, meth_name, *args)\u001b[0m\n\u001b[0;32m    490\u001b[0m \u001b[38;5;28;01mfor\u001b[39;00m handler \u001b[38;5;129;01min\u001b[39;00m handlers:\n\u001b[0;32m    491\u001b[0m     func \u001b[38;5;241m=\u001b[39m \u001b[38;5;28mgetattr\u001b[39m(handler, meth_name)\n\u001b[1;32m--> 492\u001b[0m     result \u001b[38;5;241m=\u001b[39m func(\u001b[38;5;241m*\u001b[39margs)\n\u001b[0;32m    493\u001b[0m     \u001b[38;5;28;01mif\u001b[39;00m result \u001b[38;5;129;01mis\u001b[39;00m \u001b[38;5;129;01mnot\u001b[39;00m \u001b[38;5;28;01mNone\u001b[39;00m:\n\u001b[0;32m    494\u001b[0m         \u001b[38;5;28;01mreturn\u001b[39;00m result\n",
      "File \u001b[1;32m~\\anaconda3\\envs\\sds\\Lib\\urllib\\request.py:745\u001b[0m, in \u001b[0;36mHTTPRedirectHandler.http_error_302\u001b[1;34m(self, req, fp, code, msg, headers)\u001b[0m\n\u001b[0;32m    742\u001b[0m fp\u001b[38;5;241m.\u001b[39mread()\n\u001b[0;32m    743\u001b[0m fp\u001b[38;5;241m.\u001b[39mclose()\n\u001b[1;32m--> 745\u001b[0m \u001b[38;5;28;01mreturn\u001b[39;00m \u001b[38;5;28mself\u001b[39m\u001b[38;5;241m.\u001b[39mparent\u001b[38;5;241m.\u001b[39mopen(new, timeout\u001b[38;5;241m=\u001b[39mreq\u001b[38;5;241m.\u001b[39mtimeout)\n",
      "File \u001b[1;32m~\\anaconda3\\envs\\sds\\Lib\\urllib\\request.py:521\u001b[0m, in \u001b[0;36mOpenerDirector.open\u001b[1;34m(self, fullurl, data, timeout)\u001b[0m\n\u001b[0;32m    519\u001b[0m \u001b[38;5;28;01mfor\u001b[39;00m processor \u001b[38;5;129;01min\u001b[39;00m \u001b[38;5;28mself\u001b[39m\u001b[38;5;241m.\u001b[39mprocess_response\u001b[38;5;241m.\u001b[39mget(protocol, []):\n\u001b[0;32m    520\u001b[0m     meth \u001b[38;5;241m=\u001b[39m \u001b[38;5;28mgetattr\u001b[39m(processor, meth_name)\n\u001b[1;32m--> 521\u001b[0m     response \u001b[38;5;241m=\u001b[39m meth(req, response)\n\u001b[0;32m    523\u001b[0m \u001b[38;5;28;01mreturn\u001b[39;00m response\n",
      "File \u001b[1;32m~\\anaconda3\\envs\\sds\\Lib\\urllib\\request.py:630\u001b[0m, in \u001b[0;36mHTTPErrorProcessor.http_response\u001b[1;34m(self, request, response)\u001b[0m\n\u001b[0;32m    627\u001b[0m \u001b[38;5;66;03m# According to RFC 2616, \"2xx\" code indicates that the client's\u001b[39;00m\n\u001b[0;32m    628\u001b[0m \u001b[38;5;66;03m# request was successfully received, understood, and accepted.\u001b[39;00m\n\u001b[0;32m    629\u001b[0m \u001b[38;5;28;01mif\u001b[39;00m \u001b[38;5;129;01mnot\u001b[39;00m (\u001b[38;5;241m200\u001b[39m \u001b[38;5;241m<\u001b[39m\u001b[38;5;241m=\u001b[39m code \u001b[38;5;241m<\u001b[39m \u001b[38;5;241m300\u001b[39m):\n\u001b[1;32m--> 630\u001b[0m     response \u001b[38;5;241m=\u001b[39m \u001b[38;5;28mself\u001b[39m\u001b[38;5;241m.\u001b[39mparent\u001b[38;5;241m.\u001b[39merror(\n\u001b[0;32m    631\u001b[0m         \u001b[38;5;124m'\u001b[39m\u001b[38;5;124mhttp\u001b[39m\u001b[38;5;124m'\u001b[39m, request, response, code, msg, hdrs)\n\u001b[0;32m    633\u001b[0m \u001b[38;5;28;01mreturn\u001b[39;00m response\n",
      "File \u001b[1;32m~\\anaconda3\\envs\\sds\\Lib\\urllib\\request.py:559\u001b[0m, in \u001b[0;36mOpenerDirector.error\u001b[1;34m(self, proto, *args)\u001b[0m\n\u001b[0;32m    557\u001b[0m \u001b[38;5;28;01mif\u001b[39;00m http_err:\n\u001b[0;32m    558\u001b[0m     args \u001b[38;5;241m=\u001b[39m (\u001b[38;5;28mdict\u001b[39m, \u001b[38;5;124m'\u001b[39m\u001b[38;5;124mdefault\u001b[39m\u001b[38;5;124m'\u001b[39m, \u001b[38;5;124m'\u001b[39m\u001b[38;5;124mhttp_error_default\u001b[39m\u001b[38;5;124m'\u001b[39m) \u001b[38;5;241m+\u001b[39m orig_args\n\u001b[1;32m--> 559\u001b[0m     \u001b[38;5;28;01mreturn\u001b[39;00m \u001b[38;5;28mself\u001b[39m\u001b[38;5;241m.\u001b[39m_call_chain(\u001b[38;5;241m*\u001b[39margs)\n",
      "File \u001b[1;32m~\\anaconda3\\envs\\sds\\Lib\\urllib\\request.py:492\u001b[0m, in \u001b[0;36mOpenerDirector._call_chain\u001b[1;34m(self, chain, kind, meth_name, *args)\u001b[0m\n\u001b[0;32m    490\u001b[0m \u001b[38;5;28;01mfor\u001b[39;00m handler \u001b[38;5;129;01min\u001b[39;00m handlers:\n\u001b[0;32m    491\u001b[0m     func \u001b[38;5;241m=\u001b[39m \u001b[38;5;28mgetattr\u001b[39m(handler, meth_name)\n\u001b[1;32m--> 492\u001b[0m     result \u001b[38;5;241m=\u001b[39m func(\u001b[38;5;241m*\u001b[39margs)\n\u001b[0;32m    493\u001b[0m     \u001b[38;5;28;01mif\u001b[39;00m result \u001b[38;5;129;01mis\u001b[39;00m \u001b[38;5;129;01mnot\u001b[39;00m \u001b[38;5;28;01mNone\u001b[39;00m:\n\u001b[0;32m    494\u001b[0m         \u001b[38;5;28;01mreturn\u001b[39;00m result\n",
      "File \u001b[1;32m~\\anaconda3\\envs\\sds\\Lib\\urllib\\request.py:639\u001b[0m, in \u001b[0;36mHTTPDefaultErrorHandler.http_error_default\u001b[1;34m(self, req, fp, code, msg, hdrs)\u001b[0m\n\u001b[0;32m    638\u001b[0m \u001b[38;5;28;01mdef\u001b[39;00m \u001b[38;5;21mhttp_error_default\u001b[39m(\u001b[38;5;28mself\u001b[39m, req, fp, code, msg, hdrs):\n\u001b[1;32m--> 639\u001b[0m     \u001b[38;5;28;01mraise\u001b[39;00m HTTPError(req\u001b[38;5;241m.\u001b[39mfull_url, code, msg, hdrs, fp)\n",
      "\u001b[1;31mHTTPError\u001b[0m: HTTP Error 404: Not Found"
     ]
    }
   ],
   "source": [
    "at.get('https://academictorrents.com/database.xml')"
   ]
  },
  {
   "cell_type": "code",
   "execution_count": null,
   "id": "a99e31fe-3caa-491f-983e-02e028aa303f",
   "metadata": {},
   "outputs": [],
   "source": []
  }
 ],
 "metadata": {
  "kernelspec": {
   "display_name": "Python 3 (ipykernel)",
   "language": "python",
   "name": "python3"
  },
  "language_info": {
   "codemirror_mode": {
    "name": "ipython",
    "version": 3
   },
   "file_extension": ".py",
   "mimetype": "text/x-python",
   "name": "python",
   "nbconvert_exporter": "python",
   "pygments_lexer": "ipython3",
   "version": "3.12.4"
  }
 },
 "nbformat": 4,
 "nbformat_minor": 5
}
